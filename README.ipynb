{
 "cells": [
  {
   "cell_type": "markdown",
   "metadata": {},
   "source": [
    "<center>\n",
    "<h1>Biomed Challenge Starting Kit</h1>\n",
    "<br>This code was tested with <br>\n",
    "Python 2.7 | Anaconda 2.2.0 64-bit (https://anaconda.org/)<br>\n",
    "</center>\n",
    "<p><br>\n"
   ]
  },
  {
   "cell_type": "markdown",
   "metadata": {},
   "source": [
    "</div>\n",
    "ALL INFORMATION, SOFTWARE, DOCUMENTATION, AND DATA ARE PROVIDED \"AS-IS\". The CDS, CHALEARN, AND/OR OTHER ORGANIZERS OR CODE AUTHORS DISCLAIM ANY EXPRESSED OR IMPLIED WARRANTIES, INCLUDING, BUT NOT LIMITED TO, THE IMPLIED WARRANTIES OF MERCHANTABILITY AND FITNESS FOR ANY PARTICULAR PURPOSE, AND THE WARRANTY OF NON-INFRIGEMENT OF ANY THIRD PARTY'S INTELLECTUAL PROPERTY RIGHTS. IN NO EVENT SHALL AUTHORS AND ORGANIZERS BE LIABLE FOR ANY SPECIAL, INDIRECT OR CONSEQUENTIAL DAMAGES OR ANY DAMAGES WHATSOEVER ARISING OUT OF OR IN CONNECTION WITH THE USE OR PERFORMANCE OF SOFTWARE, DOCUMENTS, MATERIALS, PUBLICATIONS, OR INFORMATION MADE AVAILABLE FOR THE CHALLENGE."
   ]
  },
  {
   "cell_type": "markdown",
   "metadata": {},
   "source": [
    "# Introduction\n",
    "\n",
    "Opioids is a small standard binary-class classification data set from the <a href=\"https://www.kaggle.com/apryor6/us-opiate-prescriptions\">Kaggle Dataset Repository</a>, formatted in the AutoML format."
   ]
  },
  {
   "cell_type": "code",
   "execution_count": 19,
   "metadata": {},
   "outputs": [
    {
     "name": "stdout",
     "output_type": "stream",
     "text": [
      "The autoreload extension is already loaded. To reload it, use:\n",
      "  %reload_ext autoreload\n"
     ]
    }
   ],
   "source": [
    "model_dir = 'my_code/'          \n",
    "problem_dir = 'ingestion_program/'  \n",
    "score_dir = 'scoring_program/'\n",
    "from sys import path; path.append(model_dir); path.append(problem_dir); path.append(score_dir); \n",
    "%matplotlib inline\n",
    "%load_ext autoreload\n",
    "%autoreload 2\n",
    "import seaborn as sns; sns.set()"
   ]
  },
  {
   "cell_type": "markdown",
   "metadata": {},
   "source": [
    "# Step 1: Exploratory data analysis\n",
    "We provide sample_data with the starting kit, but to prepare your submission, you must fetch the opioid_prescribers dataset from the repository."
   ]
  },
  {
   "cell_type": "code",
   "execution_count": 20,
   "metadata": {
    "collapsed": true
   },
   "outputs": [],
   "source": [
    "datadir = 'public_data'              # Change this to the directory where you put the input data\n",
    "dataname = 'Opioids'\n",
    "#!dir $datadir*"
   ]
  },
  {
   "cell_type": "markdown",
   "metadata": {},
   "source": [
    "For convenience, we load the data as a \"pandas\" data frame, so we can use \"pandas\" and \"seaborn\" built in functions to explore the data."
   ]
  },
  {
   "cell_type": "code",
   "execution_count": 21,
   "metadata": {},
   "outputs": [
    {
     "name": "stdout",
     "output_type": "stream",
     "text": [
      "Reading public_data/Opioids_train from AutoML format\n",
      "Number of examples = 15000\n",
      "Number of features = 243\n",
      "Number of labels = 1\n"
     ]
    }
   ],
   "source": [
    "from data_io import read_as_df\n",
    "data = read_as_df(datadir  + '/' + dataname) "
   ]
  },
  {
   "cell_type": "code",
   "execution_count": 22,
   "metadata": {},
   "outputs": [
    {
     "data": {
      "text/html": [
       "<div>\n",
       "<style>\n",
       "    .dataframe thead tr:only-child th {\n",
       "        text-align: right;\n",
       "    }\n",
       "\n",
       "    .dataframe thead th {\n",
       "        text-align: left;\n",
       "    }\n",
       "\n",
       "    .dataframe tbody tr th {\n",
       "        vertical-align: top;\n",
       "    }\n",
       "</style>\n",
       "<table border=\"1\" class=\"dataframe\">\n",
       "  <thead>\n",
       "    <tr style=\"text-align: right;\">\n",
       "      <th></th>\n",
       "      <th>Gender</th>\n",
       "      <th>State</th>\n",
       "      <th>Credentials</th>\n",
       "      <th>Specialty</th>\n",
       "      <th>ABILIFY</th>\n",
       "      <th>ACYCLOVIR</th>\n",
       "      <th>ADVAIR.DISKUS</th>\n",
       "      <th>AGGRENOX</th>\n",
       "      <th>ALENDRONATE.SODIUM</th>\n",
       "      <th>ALLOPURINOL</th>\n",
       "      <th>...</th>\n",
       "      <th>VERAPAMIL.ER</th>\n",
       "      <th>VESICARE</th>\n",
       "      <th>VOLTAREN</th>\n",
       "      <th>VYTORIN</th>\n",
       "      <th>WARFARIN.SODIUM</th>\n",
       "      <th>XARELTO</th>\n",
       "      <th>ZETIA</th>\n",
       "      <th>ZIPRASIDONE.HCL</th>\n",
       "      <th>ZOLPIDEM.TARTRATE</th>\n",
       "      <th>Target</th>\n",
       "    </tr>\n",
       "  </thead>\n",
       "  <tbody>\n",
       "    <tr>\n",
       "      <th>0</th>\n",
       "      <td>0</td>\n",
       "      <td>21</td>\n",
       "      <td>3</td>\n",
       "      <td>5</td>\n",
       "      <td>0</td>\n",
       "      <td>18</td>\n",
       "      <td>0</td>\n",
       "      <td>0</td>\n",
       "      <td>48</td>\n",
       "      <td>49</td>\n",
       "      <td>...</td>\n",
       "      <td>0</td>\n",
       "      <td>0</td>\n",
       "      <td>0</td>\n",
       "      <td>12</td>\n",
       "      <td>74</td>\n",
       "      <td>0</td>\n",
       "      <td>32</td>\n",
       "      <td>0</td>\n",
       "      <td>29</td>\n",
       "      <td>1</td>\n",
       "    </tr>\n",
       "    <tr>\n",
       "      <th>1</th>\n",
       "      <td>0</td>\n",
       "      <td>2</td>\n",
       "      <td>2</td>\n",
       "      <td>5</td>\n",
       "      <td>25</td>\n",
       "      <td>20</td>\n",
       "      <td>55</td>\n",
       "      <td>0</td>\n",
       "      <td>48</td>\n",
       "      <td>81</td>\n",
       "      <td>...</td>\n",
       "      <td>0</td>\n",
       "      <td>34</td>\n",
       "      <td>0</td>\n",
       "      <td>0</td>\n",
       "      <td>143</td>\n",
       "      <td>0</td>\n",
       "      <td>0</td>\n",
       "      <td>17</td>\n",
       "      <td>81</td>\n",
       "      <td>1</td>\n",
       "    </tr>\n",
       "    <tr>\n",
       "      <th>2</th>\n",
       "      <td>1</td>\n",
       "      <td>40</td>\n",
       "      <td>1</td>\n",
       "      <td>3</td>\n",
       "      <td>0</td>\n",
       "      <td>0</td>\n",
       "      <td>0</td>\n",
       "      <td>0</td>\n",
       "      <td>14</td>\n",
       "      <td>20</td>\n",
       "      <td>...</td>\n",
       "      <td>0</td>\n",
       "      <td>0</td>\n",
       "      <td>0</td>\n",
       "      <td>0</td>\n",
       "      <td>0</td>\n",
       "      <td>0</td>\n",
       "      <td>0</td>\n",
       "      <td>0</td>\n",
       "      <td>0</td>\n",
       "      <td>1</td>\n",
       "    </tr>\n",
       "    <tr>\n",
       "      <th>3</th>\n",
       "      <td>1</td>\n",
       "      <td>24</td>\n",
       "      <td>12</td>\n",
       "      <td>31</td>\n",
       "      <td>0</td>\n",
       "      <td>0</td>\n",
       "      <td>0</td>\n",
       "      <td>0</td>\n",
       "      <td>0</td>\n",
       "      <td>0</td>\n",
       "      <td>...</td>\n",
       "      <td>0</td>\n",
       "      <td>0</td>\n",
       "      <td>0</td>\n",
       "      <td>0</td>\n",
       "      <td>0</td>\n",
       "      <td>0</td>\n",
       "      <td>0</td>\n",
       "      <td>0</td>\n",
       "      <td>0</td>\n",
       "      <td>1</td>\n",
       "    </tr>\n",
       "    <tr>\n",
       "      <th>4</th>\n",
       "      <td>1</td>\n",
       "      <td>30</td>\n",
       "      <td>2</td>\n",
       "      <td>13</td>\n",
       "      <td>0</td>\n",
       "      <td>0</td>\n",
       "      <td>0</td>\n",
       "      <td>0</td>\n",
       "      <td>0</td>\n",
       "      <td>0</td>\n",
       "      <td>...</td>\n",
       "      <td>0</td>\n",
       "      <td>0</td>\n",
       "      <td>0</td>\n",
       "      <td>0</td>\n",
       "      <td>0</td>\n",
       "      <td>0</td>\n",
       "      <td>0</td>\n",
       "      <td>0</td>\n",
       "      <td>0</td>\n",
       "      <td>1</td>\n",
       "    </tr>\n",
       "  </tbody>\n",
       "</table>\n",
       "<p>5 rows × 244 columns</p>\n",
       "</div>"
      ],
      "text/plain": [
       "   Gender  State  Credentials  Specialty  ABILIFY  ACYCLOVIR  ADVAIR.DISKUS  \\\n",
       "0       0     21            3          5        0         18              0   \n",
       "1       0      2            2          5       25         20             55   \n",
       "2       1     40            1          3        0          0              0   \n",
       "3       1     24           12         31        0          0              0   \n",
       "4       1     30            2         13        0          0              0   \n",
       "\n",
       "   AGGRENOX  ALENDRONATE.SODIUM  ALLOPURINOL   ...    VERAPAMIL.ER  VESICARE  \\\n",
       "0         0                  48           49   ...               0         0   \n",
       "1         0                  48           81   ...               0        34   \n",
       "2         0                  14           20   ...               0         0   \n",
       "3         0                   0            0   ...               0         0   \n",
       "4         0                   0            0   ...               0         0   \n",
       "\n",
       "   VOLTAREN  VYTORIN  WARFARIN.SODIUM  XARELTO  ZETIA  ZIPRASIDONE.HCL  \\\n",
       "0         0       12               74        0     32                0   \n",
       "1         0        0              143        0      0               17   \n",
       "2         0        0                0        0      0                0   \n",
       "3         0        0                0        0      0                0   \n",
       "4         0        0                0        0      0                0   \n",
       "\n",
       "   ZOLPIDEM.TARTRATE  Target  \n",
       "0                 29       1  \n",
       "1                 81       1  \n",
       "2                  0       1  \n",
       "3                  0       1  \n",
       "4                  0       1  \n",
       "\n",
       "[5 rows x 244 columns]"
      ]
     },
     "execution_count": 22,
     "metadata": {},
     "output_type": "execute_result"
    }
   ],
   "source": [
    "data.head()"
   ]
  },
  {
   "cell_type": "code",
   "execution_count": 23,
   "metadata": {},
   "outputs": [
    {
     "data": {
      "text/html": [
       "<div>\n",
       "<style>\n",
       "    .dataframe thead tr:only-child th {\n",
       "        text-align: right;\n",
       "    }\n",
       "\n",
       "    .dataframe thead th {\n",
       "        text-align: left;\n",
       "    }\n",
       "\n",
       "    .dataframe tbody tr th {\n",
       "        vertical-align: top;\n",
       "    }\n",
       "</style>\n",
       "<table border=\"1\" class=\"dataframe\">\n",
       "  <thead>\n",
       "    <tr style=\"text-align: right;\">\n",
       "      <th></th>\n",
       "      <th>Gender</th>\n",
       "      <th>State</th>\n",
       "      <th>Credentials</th>\n",
       "      <th>Specialty</th>\n",
       "      <th>ABILIFY</th>\n",
       "      <th>ACYCLOVIR</th>\n",
       "      <th>ADVAIR.DISKUS</th>\n",
       "      <th>AGGRENOX</th>\n",
       "      <th>ALENDRONATE.SODIUM</th>\n",
       "      <th>ALLOPURINOL</th>\n",
       "      <th>...</th>\n",
       "      <th>VERAPAMIL.ER</th>\n",
       "      <th>VESICARE</th>\n",
       "      <th>VOLTAREN</th>\n",
       "      <th>VYTORIN</th>\n",
       "      <th>WARFARIN.SODIUM</th>\n",
       "      <th>XARELTO</th>\n",
       "      <th>ZETIA</th>\n",
       "      <th>ZIPRASIDONE.HCL</th>\n",
       "      <th>ZOLPIDEM.TARTRATE</th>\n",
       "      <th>Target</th>\n",
       "    </tr>\n",
       "  </thead>\n",
       "  <tbody>\n",
       "    <tr>\n",
       "      <th>count</th>\n",
       "      <td>15000.000000</td>\n",
       "      <td>15000.000000</td>\n",
       "      <td>15000.000000</td>\n",
       "      <td>15000.000000</td>\n",
       "      <td>15000.000000</td>\n",
       "      <td>15000.000000</td>\n",
       "      <td>15000.000000</td>\n",
       "      <td>15000.000000</td>\n",
       "      <td>15000.000000</td>\n",
       "      <td>15000.000000</td>\n",
       "      <td>...</td>\n",
       "      <td>15000.000000</td>\n",
       "      <td>15000.000000</td>\n",
       "      <td>15000.000000</td>\n",
       "      <td>15000.000000</td>\n",
       "      <td>15000.000000</td>\n",
       "      <td>15000.000000</td>\n",
       "      <td>15000.000000</td>\n",
       "      <td>15000.00000</td>\n",
       "      <td>15000.000000</td>\n",
       "      <td>15000.000000</td>\n",
       "    </tr>\n",
       "    <tr>\n",
       "      <th>mean</th>\n",
       "      <td>0.378267</td>\n",
       "      <td>18.622600</td>\n",
       "      <td>30.522400</td>\n",
       "      <td>10.794067</td>\n",
       "      <td>3.307000</td>\n",
       "      <td>1.020800</td>\n",
       "      <td>6.970333</td>\n",
       "      <td>0.676867</td>\n",
       "      <td>8.855733</td>\n",
       "      <td>9.239600</td>\n",
       "      <td>...</td>\n",
       "      <td>2.107733</td>\n",
       "      <td>2.233200</td>\n",
       "      <td>2.535400</td>\n",
       "      <td>0.759267</td>\n",
       "      <td>19.576000</td>\n",
       "      <td>3.350933</td>\n",
       "      <td>4.072067</td>\n",
       "      <td>1.19900</td>\n",
       "      <td>11.467867</td>\n",
       "      <td>0.588267</td>\n",
       "    </tr>\n",
       "    <tr>\n",
       "      <th>std</th>\n",
       "      <td>0.484971</td>\n",
       "      <td>13.140389</td>\n",
       "      <td>104.279229</td>\n",
       "      <td>9.773899</td>\n",
       "      <td>21.997226</td>\n",
       "      <td>6.152124</td>\n",
       "      <td>26.287433</td>\n",
       "      <td>5.126019</td>\n",
       "      <td>35.800527</td>\n",
       "      <td>28.997301</td>\n",
       "      <td>...</td>\n",
       "      <td>9.622247</td>\n",
       "      <td>14.533372</td>\n",
       "      <td>25.788233</td>\n",
       "      <td>4.602759</td>\n",
       "      <td>86.879149</td>\n",
       "      <td>17.244864</td>\n",
       "      <td>19.074987</td>\n",
       "      <td>11.57387</td>\n",
       "      <td>37.226170</td>\n",
       "      <td>0.492164</td>\n",
       "    </tr>\n",
       "    <tr>\n",
       "      <th>min</th>\n",
       "      <td>0.000000</td>\n",
       "      <td>0.000000</td>\n",
       "      <td>-1.000000</td>\n",
       "      <td>0.000000</td>\n",
       "      <td>0.000000</td>\n",
       "      <td>0.000000</td>\n",
       "      <td>0.000000</td>\n",
       "      <td>0.000000</td>\n",
       "      <td>0.000000</td>\n",
       "      <td>0.000000</td>\n",
       "      <td>...</td>\n",
       "      <td>0.000000</td>\n",
       "      <td>0.000000</td>\n",
       "      <td>0.000000</td>\n",
       "      <td>0.000000</td>\n",
       "      <td>0.000000</td>\n",
       "      <td>0.000000</td>\n",
       "      <td>0.000000</td>\n",
       "      <td>0.00000</td>\n",
       "      <td>0.000000</td>\n",
       "      <td>0.000000</td>\n",
       "    </tr>\n",
       "    <tr>\n",
       "      <th>25%</th>\n",
       "      <td>0.000000</td>\n",
       "      <td>7.000000</td>\n",
       "      <td>1.000000</td>\n",
       "      <td>3.000000</td>\n",
       "      <td>0.000000</td>\n",
       "      <td>0.000000</td>\n",
       "      <td>0.000000</td>\n",
       "      <td>0.000000</td>\n",
       "      <td>0.000000</td>\n",
       "      <td>0.000000</td>\n",
       "      <td>...</td>\n",
       "      <td>0.000000</td>\n",
       "      <td>0.000000</td>\n",
       "      <td>0.000000</td>\n",
       "      <td>0.000000</td>\n",
       "      <td>0.000000</td>\n",
       "      <td>0.000000</td>\n",
       "      <td>0.000000</td>\n",
       "      <td>0.00000</td>\n",
       "      <td>0.000000</td>\n",
       "      <td>0.000000</td>\n",
       "    </tr>\n",
       "    <tr>\n",
       "      <th>50%</th>\n",
       "      <td>0.000000</td>\n",
       "      <td>18.000000</td>\n",
       "      <td>2.000000</td>\n",
       "      <td>7.000000</td>\n",
       "      <td>0.000000</td>\n",
       "      <td>0.000000</td>\n",
       "      <td>0.000000</td>\n",
       "      <td>0.000000</td>\n",
       "      <td>0.000000</td>\n",
       "      <td>0.000000</td>\n",
       "      <td>...</td>\n",
       "      <td>0.000000</td>\n",
       "      <td>0.000000</td>\n",
       "      <td>0.000000</td>\n",
       "      <td>0.000000</td>\n",
       "      <td>0.000000</td>\n",
       "      <td>0.000000</td>\n",
       "      <td>0.000000</td>\n",
       "      <td>0.00000</td>\n",
       "      <td>0.000000</td>\n",
       "      <td>1.000000</td>\n",
       "    </tr>\n",
       "    <tr>\n",
       "      <th>75%</th>\n",
       "      <td>1.000000</td>\n",
       "      <td>28.000000</td>\n",
       "      <td>15.000000</td>\n",
       "      <td>17.000000</td>\n",
       "      <td>0.000000</td>\n",
       "      <td>0.000000</td>\n",
       "      <td>0.000000</td>\n",
       "      <td>0.000000</td>\n",
       "      <td>0.000000</td>\n",
       "      <td>0.000000</td>\n",
       "      <td>...</td>\n",
       "      <td>0.000000</td>\n",
       "      <td>0.000000</td>\n",
       "      <td>0.000000</td>\n",
       "      <td>0.000000</td>\n",
       "      <td>0.000000</td>\n",
       "      <td>0.000000</td>\n",
       "      <td>0.000000</td>\n",
       "      <td>0.00000</td>\n",
       "      <td>0.000000</td>\n",
       "      <td>1.000000</td>\n",
       "    </tr>\n",
       "    <tr>\n",
       "      <th>max</th>\n",
       "      <td>1.000000</td>\n",
       "      <td>52.000000</td>\n",
       "      <td>885.000000</td>\n",
       "      <td>43.000000</td>\n",
       "      <td>770.000000</td>\n",
       "      <td>206.000000</td>\n",
       "      <td>1105.000000</td>\n",
       "      <td>275.000000</td>\n",
       "      <td>2431.000000</td>\n",
       "      <td>449.000000</td>\n",
       "      <td>...</td>\n",
       "      <td>520.000000</td>\n",
       "      <td>902.000000</td>\n",
       "      <td>1814.000000</td>\n",
       "      <td>143.000000</td>\n",
       "      <td>5316.000000</td>\n",
       "      <td>596.000000</td>\n",
       "      <td>772.000000</td>\n",
       "      <td>694.00000</td>\n",
       "      <td>1707.000000</td>\n",
       "      <td>1.000000</td>\n",
       "    </tr>\n",
       "  </tbody>\n",
       "</table>\n",
       "<p>8 rows × 244 columns</p>\n",
       "</div>"
      ],
      "text/plain": [
       "             Gender         State   Credentials     Specialty       ABILIFY  \\\n",
       "count  15000.000000  15000.000000  15000.000000  15000.000000  15000.000000   \n",
       "mean       0.378267     18.622600     30.522400     10.794067      3.307000   \n",
       "std        0.484971     13.140389    104.279229      9.773899     21.997226   \n",
       "min        0.000000      0.000000     -1.000000      0.000000      0.000000   \n",
       "25%        0.000000      7.000000      1.000000      3.000000      0.000000   \n",
       "50%        0.000000     18.000000      2.000000      7.000000      0.000000   \n",
       "75%        1.000000     28.000000     15.000000     17.000000      0.000000   \n",
       "max        1.000000     52.000000    885.000000     43.000000    770.000000   \n",
       "\n",
       "          ACYCLOVIR  ADVAIR.DISKUS      AGGRENOX  ALENDRONATE.SODIUM  \\\n",
       "count  15000.000000   15000.000000  15000.000000        15000.000000   \n",
       "mean       1.020800       6.970333      0.676867            8.855733   \n",
       "std        6.152124      26.287433      5.126019           35.800527   \n",
       "min        0.000000       0.000000      0.000000            0.000000   \n",
       "25%        0.000000       0.000000      0.000000            0.000000   \n",
       "50%        0.000000       0.000000      0.000000            0.000000   \n",
       "75%        0.000000       0.000000      0.000000            0.000000   \n",
       "max      206.000000    1105.000000    275.000000         2431.000000   \n",
       "\n",
       "        ALLOPURINOL      ...       VERAPAMIL.ER      VESICARE      VOLTAREN  \\\n",
       "count  15000.000000      ...       15000.000000  15000.000000  15000.000000   \n",
       "mean       9.239600      ...           2.107733      2.233200      2.535400   \n",
       "std       28.997301      ...           9.622247     14.533372     25.788233   \n",
       "min        0.000000      ...           0.000000      0.000000      0.000000   \n",
       "25%        0.000000      ...           0.000000      0.000000      0.000000   \n",
       "50%        0.000000      ...           0.000000      0.000000      0.000000   \n",
       "75%        0.000000      ...           0.000000      0.000000      0.000000   \n",
       "max      449.000000      ...         520.000000    902.000000   1814.000000   \n",
       "\n",
       "            VYTORIN  WARFARIN.SODIUM       XARELTO         ZETIA  \\\n",
       "count  15000.000000     15000.000000  15000.000000  15000.000000   \n",
       "mean       0.759267        19.576000      3.350933      4.072067   \n",
       "std        4.602759        86.879149     17.244864     19.074987   \n",
       "min        0.000000         0.000000      0.000000      0.000000   \n",
       "25%        0.000000         0.000000      0.000000      0.000000   \n",
       "50%        0.000000         0.000000      0.000000      0.000000   \n",
       "75%        0.000000         0.000000      0.000000      0.000000   \n",
       "max      143.000000      5316.000000    596.000000    772.000000   \n",
       "\n",
       "       ZIPRASIDONE.HCL  ZOLPIDEM.TARTRATE        Target  \n",
       "count      15000.00000       15000.000000  15000.000000  \n",
       "mean           1.19900          11.467867      0.588267  \n",
       "std           11.57387          37.226170      0.492164  \n",
       "min            0.00000           0.000000      0.000000  \n",
       "25%            0.00000           0.000000      0.000000  \n",
       "50%            0.00000           0.000000      1.000000  \n",
       "75%            0.00000           0.000000      1.000000  \n",
       "max          694.00000        1707.000000      1.000000  \n",
       "\n",
       "[8 rows x 244 columns]"
      ]
     },
     "execution_count": 23,
     "metadata": {},
     "output_type": "execute_result"
    }
   ],
   "source": [
    "data.describe() "
   ]
  },
  {
   "cell_type": "code",
   "execution_count": 24,
   "metadata": {},
   "outputs": [
    {
     "data": {
      "image/png": "[encoded data removed]",
      "text/plain": [
       "<matplotlib.figure.Figure at 0x7fb3314b0710>"
      ]
     },
     "metadata": {},
     "output_type": "display_data"
    }
   ],
   "source": [
    "data[data.columns[:10]].hist(figsize=(10, 20), bins=50, layout=(5, 2)); "
   ]
  },
  {
   "cell_type": "markdown",
   "metadata": {},
   "source": [
    "## Categorical Features' and Target's distributions "
   ]
  },
  {
   "cell_type": "code",
   "execution_count": 25,
   "metadata": {},
   "outputs": [
    {
     "data": {
      "image/png": "[encoded data removed]",
      "text/plain": [
       "<matplotlib.figure.Figure at 0x7fb3309928d0>"
      ]
     },
     "metadata": {},
     "output_type": "display_data"
    },
    {
     "data": {
      "image/png": "[encoded data removed]",
      "text/plain": [
       "<matplotlib.figure.Figure at 0x7fb33128a090>"
      ]
     },
     "metadata": {},
     "output_type": "display_data"
    },
    {
     "data": {
      "image/png": "[encoded data removed]",
      "text/plain": [
       "<matplotlib.figure.Figure at 0x7fb3371f2750>"
      ]
     },
     "metadata": {},
     "output_type": "display_data"
    },
    {
     "data": {
      "image/png": "[encoded data removed]",
      "text/plain": [
       "<matplotlib.figure.Figure at 0x7fb3316c0590>"
      ]
     },
     "metadata": {},
     "output_type": "display_data"
    }
   ],
   "source": [
    "#import numpy as np\n",
    "#cols = data.columns[:10]\n",
    "#sns.pairplot(data[np.append(cols,\"Opioid.Prescriber\")], hue=\"Opioid.Prescriber\")\n",
    "\n",
    "import matplotlib.pyplot as plt\n",
    "def plot_dist(data, feat, title):\n",
    "    g = plt.figure()\n",
    "    sns.countplot(x=feat, data= data, order = data[feat].value_counts().index,palette=\"Greens_d\")\n",
    "    plt.xticks(rotation=85, fontsize = 8)\n",
    "    plt.title(title)\n",
    "    plt.show()\n",
    "    \n",
    "plot_dist(data, \"State\", \"State repartition\")\n",
    "plot_dist(data, \"Specialty\", \"Specialty repartition\")\n",
    "plot_dist(data, \"Gender\", \"Gender repartition\")\n",
    "plot_dist(data, \"Target\", \"Target class repartition\")"
   ]
  },
  {
   "cell_type": "markdown",
   "metadata": {},
   "source": [
    "# Step 2: Building a predictive model"
   ]
  },
  {
   "cell_type": "markdown",
   "metadata": {},
   "source": [
    "## Loading data with DataManager\n",
    "We reload the data with the AutoML DataManager class because this is more convenient:"
   ]
  },
  {
   "cell_type": "code",
   "execution_count": 26,
   "metadata": {},
   "outputs": [
    {
     "name": "stdout",
     "output_type": "stream",
     "text": [
      "Info file found : /home/simon/Bureau/MiniProjet/SANTE-mini-projet/public_data/Opioids_public.info\n",
      "DataManager : Opioids\n",
      "info:\n",
      "\ttask = binary.classification\n",
      "\tname = Opioids\n",
      "\tfeat_type = Numerical\n",
      "\tformat = dense\n",
      "\tis_sparse = 0\n",
      "\tmetric = auc_metric\n",
      "\ttarget_type = Numerical\n",
      "\ttest_num = 20\n",
      "\tlabel_num = 2\n",
      "\ttarget_num = 2\n",
      "\tvalid_num = 20\n",
      "\thas_categorical = 1\n",
      "\tusage = Sample dataset Opioids data\n",
      "\tfeat_num = 243\n",
      "\ttime_budget = 1200\n",
      "\ttrain_num = 20\n",
      "\thas_missing = 0\n",
      "data:\n",
      "\tX_train = array(15000, 243)\n",
      "\tY_train = array(15000,)\n",
      "\tX_valid = array(5000, 243)\n",
      "\tX_test = array(5000, 243)\n",
      "feat_type:\tarray(243,)\n",
      "feat_idx:\tarray(0,)\n",
      "\n"
     ]
    }
   ],
   "source": [
    "from data_manager import DataManager  \n",
    "D = DataManager(dataname, datadir, replace_missing=True)\n",
    "print D"
   ]
  },
  {
   "cell_type": "markdown",
   "metadata": {},
   "source": [
    "## Training a predictive model\n",
    "We provide an example of predictive model (for classification or regression) in the `sample_code_submission/` directory. It is a quite stupid model: it makes constant predictions. Replace it with your own model."
   ]
  },
  {
   "cell_type": "code",
   "execution_count": 29,
   "metadata": {},
   "outputs": [
    {
     "name": "stderr",
     "output_type": "stream",
     "text": [
      "/home/simon/anaconda2/lib/python2.7/site-packages/sklearn/cross_validation.py:41: DeprecationWarning: This module was deprecated in version 0.18 in favor of the model_selection module into which all the refactored classes and functions are moved. Also note that the interface of the new CV iterators are different from that of this module. This module will be removed in 0.20.\n",
      "  \"This module will be removed in 0.20.\", DeprecationWarning)\n",
      "/home/simon/anaconda2/lib/python2.7/site-packages/sklearn/grid_search.py:42: DeprecationWarning: This module was deprecated in version 0.18 in favor of the model_selection module into which all the refactored classes and functions are moved. This module will be removed in 0.20.\n",
      "  DeprecationWarning)\n"
     ]
    }
   ],
   "source": [
    "from model import model\n",
    "??model "
   ]
  },
  {
   "cell_type": "markdown",
   "metadata": {},
   "source": [
    "Create an instance of the model (run the constructor) and attempt to reload a previously saved version from `sample_code_submission/`:"
   ]
  },
  {
   "cell_type": "code",
   "execution_count": 30,
   "metadata": {},
   "outputs": [
    {
     "name": "stdout",
     "output_type": "stream",
     "text": [
      "Info file found : /home/simon/Bureau/MiniProjet/public_data/Opioids_public.info\n"
     ]
    }
   ],
   "source": [
    "M = model()\n",
    "trained_model_name = model_dir + dataname\n",
    "M = M.load(trained_model_name)                  # Attempts to re-load an already trained model"
   ]
  },
  {
   "cell_type": "markdown",
   "metadata": {},
   "source": [
    "Train and run your predictive model. If you have saved a trained model in sample_code_submission, the evaluation script will reload it and not retrain, just test. This will happen the second time you run the code because when the model is trained it gets saved. So delete iris_model.pickle from sample_code_submission if you do not want this to happen."
   ]
  },
  {
   "cell_type": "code",
   "execution_count": 32,
   "metadata": {},
   "outputs": [],
   "source": [
    "X_train = D.data['X_train']\n",
    "Y_train = D.data['Y_train']\n",
    "if not(M.is_trained):    \n",
    "    M.fit(X_train, Y_train)                     \n",
    "\n",
    "Y_hat_train = M.predict(D.data['X_train']) # Optional, not really needed to test on taining examples\n",
    "Y_hat_valid = M.predict(D.data['X_valid'])\n",
    "Y_hat_test = M.predict(D.data['X_test'])"
   ]
  },
  {
   "cell_type": "markdown",
   "metadata": {},
   "source": [
    "Save the trained model (will be ready to reload next time around) and save the prediction results:"
   ]
  },
  {
   "cell_type": "code",
   "execution_count": 33,
   "metadata": {
    "collapsed": true
   },
   "outputs": [],
   "source": [
    "M.save(trained_model_name)                 \n",
    "result_name = 'sample_result_submission/' + dataname\n",
    "from data_io import write\n",
    "write(result_name + '_valid.predict', Y_hat_valid)\n",
    "write(result_name + '_test.predict', Y_hat_test)\n",
    "#!ls $result_name*"
   ]
  },
  {
   "cell_type": "markdown",
   "metadata": {},
   "source": [
    "## Scoring the results\n",
    "### Load the challenge metric\n",
    "<b>The metric chosen for your challenge</b> is identified in the \"metric.txt\" file found in the `scoring_function/` directory. We use here the `mse_metric` metric (an example of organizer-supplied metric found in `my_metric.py`), which computes the mean-square-error. You may change that in the \"metric.txt\" file to e.g. use `bac_multiclass`, one of the AutoML challenge metrics found in `libscores.py`, which is 2*(balanced_accuracy)-1."
   ]
  },
  {
   "cell_type": "code",
   "execution_count": 34,
   "metadata": {
    "collapsed": true
   },
   "outputs": [],
   "source": [
    "import my_metric\n",
    "import libscores"
   ]
  },
  {
   "cell_type": "code",
   "execution_count": 35,
   "metadata": {},
   "outputs": [
    {
     "name": "stdout",
     "output_type": "stream",
     "text": [
      "('Using scoring metric:', 'auc_metric_')\n"
     ]
    }
   ],
   "source": [
    "with open(score_dir + '/metric.txt', 'r') as f:\n",
    "    metric_name = f.readline().strip()\n",
    "scoring_function = getattr(my_metric, 'auc_metric_')\n",
    "print('Using scoring metric:', metric_name)\n",
    "??scoring_function"
   ]
  },
  {
   "cell_type": "markdown",
   "metadata": {},
   "source": [
    "### Training performance\n",
    "The participants normally posess target values (labels) only for training examples (except for the sample data). We compute with the `example` metric the training score, which should be zero for perfect predictions."
   ]
  },
  {
   "cell_type": "code",
   "execution_count": 36,
   "metadata": {},
   "outputs": [
    {
     "data": {
      "text/plain": [
       "1"
      ]
     },
     "execution_count": 36,
     "metadata": {},
     "output_type": "execute_result"
    }
   ],
   "source": [
    "Y_train.ndim"
   ]
  },
  {
   "cell_type": "code",
   "execution_count": 37,
   "metadata": {},
   "outputs": [
    {
     "name": "stdout",
     "output_type": "stream",
     "text": [
      "Training score for the auc_metric_ metric = 0.9966\n",
      "Ideal score for the auc_metric_ metric = 1.0000\n"
     ]
    }
   ],
   "source": [
    "print 'Training score for the', metric_name, 'metric = %5.4f' % scoring_function(Y_train, Y_hat_train)\n",
    "print 'Ideal score for the', metric_name, 'metric = %5.4f' % scoring_function(Y_train, Y_train)"
   ]
  },
  {
   "cell_type": "markdown",
   "metadata": {},
   "source": [
    "### Other metrics\n",
    "It is recommended to generally use `predict_proba` to get numeric predictions between 0 an 1. However, to compute the two metrics below, you need first to threshold them. </div>"
   ]
  },
  {
   "cell_type": "code",
   "execution_count": 38,
   "metadata": {},
   "outputs": [
    {
     "name": "stdout",
     "output_type": "stream",
     "text": [
      "Training accuracy = 0.9983\n",
      "Confusion matrix [known in lines, predicted in columns]=\n",
      "[[6166   10]\n",
      " [  16 8808]]\n"
     ]
    }
   ],
   "source": [
    "y_hat_train = 1*(Y_hat_train>0.5)   # This turns the outputs to binary predictions 0/1\n",
    "# Compute accuracy and confusion matrix:\n",
    "from sklearn.metrics import accuracy_score\n",
    "from sklearn.metrics import confusion_matrix\n",
    "print 'Training accuracy = %5.4f' % accuracy_score(Y_train, y_hat_train)\n",
    "print 'Confusion matrix [known in lines, predicted in columns]=\\n',confusion_matrix(Y_train, y_hat_train)"
   ]
  },
  {
   "cell_type": "markdown",
   "metadata": {},
   "source": [
    "### Cross-validation performance\n",
    "The participants do not have access to the labels Y_valid and Y_test to self-assess their validation and test performances. But training performance is not a good prediction of validation or test performance. Using cross-validation, the training data is split into multiple training/test folds, which allows participants to self-assess their model during development."
   ]
  },
  {
   "cell_type": "code",
   "execution_count": 39,
   "metadata": {},
   "outputs": [
    {
     "name": "stdout",
     "output_type": "stream",
     "text": [
      "Info file found : /home/simon/Bureau/MiniProjet/public_data/Opioids_public.info\n",
      "FIT: dim(X)= [10000, 243]\n",
      "FIT: dim(y)= [10000, 1]\n",
      "('Fold', 1, 'example metric = ', 0.64388497439845893)\n",
      "Info file found : /home/simon/Bureau/MiniProjet/public_data/Opioids_public.info\n",
      "FIT: dim(X)= [10000, 243]\n",
      "FIT: dim(y)= [10000, 1]\n",
      "('Fold', 2, 'example metric = ', 0.63881695204057221)\n",
      "Info file found : /home/simon/Bureau/MiniProjet/public_data/Opioids_public.info\n",
      "FIT: dim(X)= [10000, 243]\n",
      "FIT: dim(y)= [10000, 1]\n",
      "('Fold', 3, 'example metric = ', 0.60510128824678655)\n",
      "('Average score = ', 0.62926773822860593)\n"
     ]
    }
   ],
   "source": [
    "from sklearn.model_selection import KFold\n",
    "from numpy import zeros, mean\n",
    "# 3-fold cross-validation\n",
    "n = 3\n",
    "kf = KFold(n_splits=n)\n",
    "kf.get_n_splits(X_train)\n",
    "i=0\n",
    "scores = zeros(n)\n",
    "for train_index, test_index in kf.split(X_train):\n",
    "    Xtr, Xva = X_train[train_index], X_train[test_index]\n",
    "    Ytr, Yva = Y_train[train_index], Y_train[test_index]\n",
    "    M = model()\n",
    "    M.fit(Xtr, Ytr)\n",
    "    Yhat = M.predict(Xva)\n",
    "    scores[i] = scoring_function(Yva, Yhat)\n",
    "    print ('Fold', i+1, 'example metric = ', scores[i])\n",
    "    i=i+1\n",
    "print ('Average score = ', mean(scores))"
   ]
  },
  {
   "cell_type": "markdown",
   "metadata": {},
   "source": [
    "# Step 3: Making a submission\n",
    "\n",
    "## Unit testing\n",
    "\n",
    "It is <b><span style=\"color:red\">important that you test your submission files before submitting them</span></b>. All you have to do to make a submission is modify the file <code>model.py</code> in the <code>sample_code_submission/</code> directory, then run this test to make sure everything works fine. This is the actual program that will be run on the server to test your submission. "
   ]
  },
  {
   "cell_type": "code",
   "execution_count": 19,
   "metadata": {
    "collapsed": true,
    "scrolled": true
   },
   "outputs": [],
   "source": [
    "outdir = 'sample_result_submission'     "
   ]
  },
  {
   "cell_type": "code",
   "execution_count": 20,
   "metadata": {
    "scrolled": false
   },
   "outputs": [
    {
     "name": "stdout",
     "output_type": "stream",
     "text": [
      "Using input_dir: /Users/isabelleguyon/Documents/Projects/ParisSaclay/Enseignement/Winter2018/M2_AIC/3.final_website/Biomed2/starting_kit/sample_data\n",
      "Using output_dir: /Users/isabelleguyon/Documents/Projects/ParisSaclay/Enseignement/Winter2018/M2_AIC/3.final_website/Biomed2/starting_kit/sample_result_submission\n",
      "Using program_dir: /Users/isabelleguyon/Documents/Projects/ParisSaclay/Enseignement/Winter2018/M2_AIC/3.final_website/Biomed2/starting_kit/ingestion_program\n",
      "Using submission_dir: /Users/isabelleguyon/Documents/Projects/ParisSaclay/Enseignement/Winter2018/M2_AIC/3.final_website/Biomed2/starting_kit/sample_code_submission\n",
      "\n",
      "========== Ingestion program version 6 ==========\n",
      "\n",
      "************************************************\n",
      "******** Processing dataset Opioids ********\n",
      "************************************************\n",
      "========= Reading and converting data ==========\n",
      "Info file found : /Users/isabelleguyon/Documents/Projects/ParisSaclay/Enseignement/Winter2018/M2_AIC/3.final_website/Biomed2/starting_kit/sample_data/Opioids_public.info\n",
      "========= Reading /Users/isabelleguyon/Documents/Projects/ParisSaclay/Enseignement/Winter2018/M2_AIC/3.final_website/Biomed2/starting_kit/sample_data/Opioids_feat.type\n",
      "[+] Success in  0.00 sec\n",
      "========= Reading /Users/isabelleguyon/Documents/Projects/ParisSaclay/Enseignement/Winter2018/M2_AIC/3.final_website/Biomed2/starting_kit/sample_data/Opioids_train.data\n",
      "[+] Success in  0.00 sec\n",
      "========= Reading /Users/isabelleguyon/Documents/Projects/ParisSaclay/Enseignement/Winter2018/M2_AIC/3.final_website/Biomed2/starting_kit/sample_data/Opioids_train.solution\n",
      "[+] Success in  0.00 sec\n",
      "========= Reading /Users/isabelleguyon/Documents/Projects/ParisSaclay/Enseignement/Winter2018/M2_AIC/3.final_website/Biomed2/starting_kit/sample_data/Opioids_valid.data\n",
      "[+] Success in  0.00 sec\n",
      "========= Reading /Users/isabelleguyon/Documents/Projects/ParisSaclay/Enseignement/Winter2018/M2_AIC/3.final_website/Biomed2/starting_kit/sample_data/Opioids_test.data\n",
      "[+] Success in  0.00 sec\n",
      "DataManager : Opioids\n",
      "info:\n",
      "\ttask = binary.classification\n",
      "\tname = Opioids\n",
      "\tfeat_type = Numerical\n",
      "\tformat = dense\n",
      "\tis_sparse = 0\n",
      "\tmetric = auc_metric\n",
      "\ttarget_type = Numerical\n",
      "\ttest_num = 20\n",
      "\tlabel_num = 2\n",
      "\ttarget_num = 2\n",
      "\tvalid_num = 20\n",
      "\thas_categorical = 1\n",
      "\tusage = Sample dataset Opioids data\n",
      "\tfeat_num = 243\n",
      "\ttime_budget = 1200\n",
      "\ttrain_num = 20\n",
      "\thas_missing = 0\n",
      "data:\n",
      "\tX_train = array(50, 243)\n",
      "\tY_train = array(50,)\n",
      "\tX_valid = array(25, 243)\n",
      "\tX_test = array(25, 243)\n",
      "feat_type:\tarray(243,)\n",
      "feat_idx:\tarray(243,)\n",
      "\n",
      "[+] Size of uploaded data  72.00 bytes\n",
      "[+] Cumulated time budget (all tasks so far)  1200.00 sec\n",
      "[+] Time budget for this task 1200.00 sec\n",
      "[+] Remaining time after reading data 1200.00 sec\n",
      "======== Creating model ==========\n",
      "**********************************************************\n",
      "****** Attempting to reload model to avoid training ******\n",
      "**********************************************************\n",
      "Model reloaded from: /Users/isabelleguyon/Documents/Projects/ParisSaclay/Enseignement/Winter2018/M2_AIC/3.final_website/Biomed2/starting_kit/sample_code_submission/Opioids_model.pickle\n",
      "[+] Model reloaded, no need to train!\n",
      "PREDICT: dim(X)= [50, 243]\n",
      "PREDICT: dim(y)= [50, 1]\n",
      "PREDICT: dim(X)= [25, 243]\n",
      "PREDICT: dim(y)= [25, 1]\n",
      "PREDICT: dim(X)= [25, 243]\n",
      "PREDICT: dim(y)= [25, 1]\n",
      "[+] Prediction success, time spent so far  0.01 sec\n",
      "======== Saving results to: /Users/isabelleguyon/Documents/Projects/ParisSaclay/Enseignement/Winter2018/M2_AIC/3.final_website/Biomed2/starting_kit/sample_result_submission\n",
      "[+] Results saved, time spent so far  0.01 sec\n",
      "[+] End cycle, time left 1199.99 sec\n",
      "[+] Done\n",
      "[+] Overall time spent  1.05 sec ::  Overall time budget 1200.00 sec\n"
     ]
    }
   ],
   "source": [
    "!python $problem_dir/ingestion.py $datadir $outdir $problem_dir $model_dir"
   ]
  },
  {
   "cell_type": "markdown",
   "metadata": {
    "collapsed": true
   },
   "source": [
    "## Preparing the submission\n",
    "\n",
    "Zip the contents of `sample_code_submission/` (without the directory), or download the challenge public_data and run the command in the previous cell, after replacing sample_data by public_data.\n",
    "Then zip the contents of `sample_result_submission/` (without the directory).\n",
    "<b><span style=\"color:red\">Do NOT zip the data with your submissions</span></b>."
   ]
  },
  {
   "cell_type": "code",
   "execution_count": null,
   "metadata": {
    "collapsed": true
   },
   "outputs": [],
   "source": []
  },
  {
   "cell_type": "code",
   "execution_count": null,
   "metadata": {
    "collapsed": true
   },
   "outputs": [],
   "source": []
  },
  {
   "cell_type": "code",
   "execution_count": null,
   "metadata": {
    "collapsed": true
   },
   "outputs": [],
   "source": []
  },
  {
   "cell_type": "code",
   "execution_count": null,
   "metadata": {
    "collapsed": true
   },
   "outputs": [],
   "source": []
  },
  {
   "cell_type": "code",
   "execution_count": null,
   "metadata": {
    "collapsed": true
   },
   "outputs": [],
   "source": []
  },
  {
   "cell_type": "code",
   "execution_count": null,
   "metadata": {
    "collapsed": true
   },
   "outputs": [],
   "source": []
  }
 ],
 "metadata": {
  "kernelspec": {
   "display_name": "Python 2",
   "language": "python",
   "name": "python2"
  },
  "language_info": {
   "codemirror_mode": {
    "name": "ipython",
    "version": 2
   },
   "file_extension": ".py",
   "mimetype": "text/x-python",
   "name": "python",
   "nbconvert_exporter": "python",
   "pygments_lexer": "ipython2",
   "version": "2.7.14"
  }
 },
 "nbformat": 4,
 "nbformat_minor": 1
}
